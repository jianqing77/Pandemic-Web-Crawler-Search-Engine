{
 "cells": [
  {
   "cell_type": "code",
   "execution_count": null,
   "id": "596671d7-410a-4eeb-b777-a9630051c288",
   "metadata": {},
   "outputs": [],
   "source": [
    "from urllib.parse import urlparse\n",
    "import streamlit as st\n",
    "from elasticsearch7 import Elasticsearch\n",
    "import re\n",
    "import nltk\n",
    "from nltk.tokenize import word_tokenize\n",
    "from nltk.stem import PorterStemmer\n",
    "nltk.download('punkt')"
   ]
  },
  {
   "cell_type": "markdown",
   "id": "79f9bf4b-919c-4b5c-b540-bf1559db0ddc",
   "metadata": {},
   "source": [
    "#  Vertical Search UI -- Basic"
   ]
  },
  {
   "cell_type": "code",
   "execution_count": null,
   "id": "39135824-a26e-4fad-a4d2-3d29019437ab",
   "metadata": {},
   "outputs": [],
   "source": [
    "# Function to retrieve domain from URL\n",
    "def domain_retrieval(url):\n",
    "    parsed_url = urlparse(url)\n",
    "    domain = parsed_url.netloc\n",
    "    return domain\n",
    "\n",
    "# Function to highlight text hits with reduced opacity\n",
    "def highlight_text(text, query):\n",
    "    highlighted_text = re.sub(f'({query})', r'<span style=\"background-color: rgba(255, 255, 0, 0.5);\">\\1</span>', text, flags=re.IGNORECASE)\n",
    "    return highlighted_text"
   ]
  },
  {
   "cell_type": "code",
   "execution_count": null,
   "id": "ac3a37e1-28ed-47a0-8c74-9469afd3ca9d",
   "metadata": {},
   "outputs": [],
   "source": [
    "# Streamlit app\n",
    "def main():\n",
    "    st.title(\"Vertical Search Page HW3\")\n",
    "    # User input\n",
    "    text_query = st.text_input(\"Enter your Query\")\n",
    "    if st.button(\"Search\"):\n",
    "        INDEX = 'crawler'\n",
    "        es = Elasticsearch(cloud_id= \"0feeb24636464a578a9c7a1ce9739181:dXMtY2VudHJhbDEuZ2NwLmNsb3VkLmVzLmlvOjQ0MyQyMzcyNjZmYzcwMzg0ZTA2OTM1MTJkZGIxMDgzYTRmMyQ1N2RhZjIzZTNiMWM0MjAwYjBhMDQ0MGY1ZTEyZTc2Yw==\",\n",
    "                        http_auth=(\"elastic\", \"pETnMazDlmfyCT2rZ2NAWh2V\"))\n",
    "        response = es.search(\n",
    "            index=INDEX,\n",
    "            body={\n",
    "            \"query\": {\n",
    "                \"multi_match\": {\n",
    "                \"query\": text_query,\n",
    "                \"fields\": [\"title\", \"content\"]\n",
    "                }\n",
    "            }\n",
    "            }, size=25\n",
    "        )\n",
    "        \n",
    "        display_list = {}\n",
    "        for hit in response['hits']['hits']:\n",
    "            display_list[hit[\"_id\"]] = {\n",
    "                \"content\": hit[\"_source\"][\"content\"],\n",
    "                \"author\": hit[\"_source\"][\"author\"],\n",
    "                \"title\": hit[\"_source\"][\"title\"]\n",
    "            }\n",
    "        # Display search results with improved design\n",
    "        if display_list:\n",
    "            for article_id, article_info in display_list.items():\n",
    "                domain = domain_retrieval(article_id)\n",
    "                with st.expander(f\"**Domain:** {domain}-----Article ID: {article_id}\"):\n",
    "                    st.markdown(f\"# {article_info['title'].strip()}\")\n",
    "                    st.markdown(f\"**Author:** {','.join(article_info['author'])}\")\n",
    "                    highlighted_content = highlight_text(article_info['content'], text_query)\n",
    "                    st.markdown(highlighted_content, unsafe_allow_html=True)\n",
    "        else:\n",
    "            st.write(\"No results found.\")\n",
    "            \n",
    "            \n",
    "if __name__ == \"__main__\":\n",
    "    main()"
   ]
  }
 ],
 "metadata": {
  "kernelspec": {
   "display_name": "Python 3 (ipykernel)",
   "language": "python",
   "name": "python3"
  },
  "language_info": {
   "codemirror_mode": {
    "name": "ipython",
    "version": 3
   },
   "file_extension": ".py",
   "mimetype": "text/x-python",
   "name": "python",
   "nbconvert_exporter": "python",
   "pygments_lexer": "ipython3",
   "version": "3.11.5"
  }
 },
 "nbformat": 4,
 "nbformat_minor": 5
}
