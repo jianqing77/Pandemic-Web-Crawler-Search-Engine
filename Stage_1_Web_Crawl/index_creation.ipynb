{
 "cells": [
  {
   "cell_type": "code",
   "execution_count": 2,
   "id": "7962c886-d5d0-4317-a137-95d078238c66",
   "metadata": {
    "tags": []
   },
   "outputs": [],
   "source": [
    "import os.path  \n",
    "import re \n",
    "from typing import List, Dict, Tuple\n",
    "import json\n",
    "from elasticsearch import Elasticsearch\n",
    "from elasticsearch.client import IndicesClient\n",
    "import hashlib\n",
    "\n",
    "import requests\n",
    "import numpy as np\n",
    "\n",
    "import string\n",
    "from nltk.tokenize import word_tokenize\n",
    "from nltk.stem import PorterStemmer"
   ]
  },
  {
   "cell_type": "markdown",
   "id": "af59a6c5-6ac4-4709-99d5-403d80b056ae",
   "metadata": {
    "tags": []
   },
   "source": [
    "# TASK 3: Merging team indexes"
   ]
  },
  {
   "cell_type": "code",
   "execution_count": 26,
   "id": "e2a408b8-1f14-4b2f-a030-44ba86a765b0",
   "metadata": {
    "tags": []
   },
   "outputs": [],
   "source": [
    "cwd = os.getcwd() # get the current working directory                 \n",
    "PATH_SCRIPT = os.path.abspath(cwd) \n",
    "PATH_DIR_RESULTS = os.path.join(PATH_SCRIPT, '..', 'Results', )\n",
    "PATH_DIR_CRAWLED_DATA = os.path.join(PATH_DIR_RESULTS, \"data\")\n",
    "PATH_INLINKS = os.path.join(PATH_DIR_RESULTS, 'links', 'inlinks.json')\n",
    "PATH_OUTLINKS = os.path.join(PATH_DIR_RESULTS, 'links', 'outlinks.json')\n",
    "PATH_INLINKS_COUNTS = os.path.join(PATH_DIR_RESULTS, 'links', 'inlinks_counts.json')"
   ]
  },
  {
   "cell_type": "code",
   "execution_count": 11,
   "id": "a303d14c-1162-4d70-ab6e-db001daf9dce",
   "metadata": {
    "tags": []
   },
   "outputs": [],
   "source": [
    "# Open the file and read the JSON data into a dictionary\n",
    "with open(PATH_INLINKS, 'r') as inlink_file:\n",
    "    inlinks_dict = json.load(inlink_file)\n",
    "\n",
    "with open(PATH_OUTLINKS, 'r') as outlink_file:\n",
    "    outlinks_dict = json.load(outlink_file)\n",
    "    \n",
    "with open(PATH_INLINKS_COUNTS, 'r') as inlink_count_file:\n",
    "    inlinks_count_dict = json.load(inlink_count_file)\n",
    "    "
   ]
  },
  {
   "cell_type": "markdown",
   "id": "4df9b425-f2d8-4484-94e0-2e7433e4ca91",
   "metadata": {
    "tags": []
   },
   "source": [
    "### 1. Save data to docs_mp => Parsing: read all files and parse the doc ID and TEXT"
   ]
  },
  {
   "cell_type": "code",
   "execution_count": 12,
   "id": "9c0ac211-ee65-41d1-b67c-ebc8542778c0",
   "metadata": {
    "tags": []
   },
   "outputs": [],
   "source": [
    "docs_map = {}       # dictionary to store the key: docno, value: parsed text\n",
    "num_docs = 0        # total number of docs in the docs_map"
   ]
  },
  {
   "cell_type": "code",
   "execution_count": 13,
   "id": "9cc33436-e406-4329-9da6-fab139948286",
   "metadata": {
    "tags": []
   },
   "outputs": [],
   "source": [
    "def extract_title(doc_content: str) -> str:\n",
    "    head_segments = re.findall(r\"<HEAD>\\s*(.*?)\\s*</HEAD>\", doc_content, re.DOTALL)\n",
    "    return head_segments\n",
    "\n",
    "def extract_content(doc_content: str) -> str:\n",
    "    text_segments = re.findall(r\"<TEXT>\\s*(.*?)\\s*</TEXT>\", doc_content, re.DOTALL) # re module return a list of matches\n",
    "    return text_segments\n",
    "        \n",
    "\n",
    "\"\"\" Open, parse a file and extract only the DOCNO and TEXT information into a map: docs_map.\n",
    "\"\"\"\n",
    "def parse_file(file_path: str):\n",
    "    try:\n",
    "        with open(file_path, 'r', encoding='ISO-8859-1') as file:\n",
    "            content = file.read()\n",
    "            matches = re.findall(r\"<DOCNO>\\s*(.*?)\\s*</DOCNO>(.*?)</DOC>\", content, re.DOTALL) # matches will be a list of tuples\n",
    "            for docno, doc_content in matches:\n",
    "                if docno in docs_map:\n",
    "                    print(f\"Duplicate or overwritten DOCNO: {docno}\")             \n",
    "                title = ' '.join(extract_title(doc_content))\n",
    "                text = ' '.join(extract_content(doc_content))\n",
    "\n",
    "                # Initialize a dictionary for the current docno if it doesn't exist\n",
    "                if docno not in docs_map:\n",
    "                    docs_map[docno] = {'title':'',\n",
    "                                       'content': '', \n",
    "                                       'inlinks': [], \n",
    "                                       'outlinks': [],\n",
    "                                       'inlink_no': 0,\n",
    "                                       'outlink_no': 0,\n",
    "                                       'author': ['Jianqing']\n",
    "                                      }\n",
    "            \n",
    "                docs_map[docno]['title'] = title\n",
    "                docs_map[docno]['content'] = text\n",
    "\n",
    "                if docno in inlinks_dict:\n",
    "                    docs_map[docno]['inlinks'] = inlinks_dict[docno]\n",
    "                    docs_map[docno]['inlink_no'] = inlinks_count_dict[docno]\n",
    "                \n",
    "                if docno in outlinks_dict:\n",
    "                    docs_map[docno]['outlinks'] = outlinks_dict[docno]\n",
    "                    docs_map[docno]['outlink_no'] = len(outlinks_dict[docno])\n",
    "\n",
    "    except FileNotFoundError:\n",
    "        print(\"Error when loading the data file\")"
   ]
  },
  {
   "cell_type": "code",
   "execution_count": 14,
   "id": "6af51817-ea36-40bc-8970-ffdb3c94ef78",
   "metadata": {
    "tags": []
   },
   "outputs": [
    {
     "name": "stdout",
     "output_type": "stream",
     "text": [
      "Parsing completed. Stored in docs_map.\n",
      "\n"
     ]
    }
   ],
   "source": [
    "# Get the list of all files and directories\n",
    "for filename in os.listdir(PATH_DIR_CRAWLED_DATA):\n",
    "    if filename == \".ipynb_checkpoints\":\n",
    "        continue\n",
    "    file_path = os.path.join(PATH_DIR_CRAWLED_DATA, filename) # construct unique filepath for each doc in the data dir\n",
    "    parse_file(file_path) \n",
    "print('Parsing completed. Stored in docs_map.\\n')"
   ]
  },
  {
   "cell_type": "code",
   "execution_count": 27,
   "id": "963536f1-1f6a-4cfc-9818-20c073bbe921",
   "metadata": {
    "tags": []
   },
   "outputs": [
    {
     "name": "stdout",
     "output_type": "stream",
     "text": [
      "Expected total number of docs: 30000 \n",
      "Actual: 30000\n"
     ]
    }
   ],
   "source": [
    "# testing: get total num of docs \n",
    "num_docs = len(docs_map)\n",
    "print(f\"Expected total number of docs: 30000 \\nActual: {num_docs}\")"
   ]
  },
  {
   "cell_type": "code",
   "execution_count": 28,
   "id": "6d62f07e",
   "metadata": {
    "scrolled": true,
    "tags": []
   },
   "outputs": [
    {
     "name": "stdout",
     "output_type": "stream",
     "text": [
      "{'title': 'UEMOA Tournament  Wikipedia', 'content': \"TheUEMOA Tournamentis a football (soccer) tournament held between nations who are a member of theWest African Economic and Monetary Union(UEMOA). The tournament was first played in2007. It is also calledCoupe de l'intÃ©gration ouest africaine. The teams are made up of players in national leagues of the organisation's member countries, in an effort to promote local talents. The participating nations are: The 2014 edition was cancelled because of an ebola outbreak. The next edition then was only played in 2016.[1][2]\", 'inlinks': ['https://en.wikipedia.org/wiki/West_Africa'], 'outlinks': ['https://en.wikipedia.org/wiki/Special:MyContributions', 'https://en.wikipedia.org/wiki/FIFA_Men%27s_World_Ranking', 'https://en.wikipedia.org/wiki/Niger', 'https://en.wikipedia.org/wiki/South_American_Board_of_New_Football_Federations', 'https://en.wikipedia.org/wiki/Am%C3%ADlcar_Cabral_Cup', 'https://en.wikipedia.org/wiki/Help:Introduction', 'https://en.wikipedia.org/wiki/File:World_Map_FIFA.svg', 'https://foundation.wikimedia.org/wiki/Special:MyLanguage/Policy:Cookie_statement', 'https://en.wikipedia.org/wiki/African_Cup_Winners%27_Cup', 'https://en.wikipedia.org/wiki/UNAF_U-20_Tournament', 'https://en.wikipedia.org/wiki/UNIFFAC_Clubs_Cup', 'https://en.wikipedia.org/wiki/Category:Short_description_matches_Wikidata', 'https://en.m.wikipedia.org/w/index.php?title=UEMOA_Tournament&mobileaction=toggle_view_mobile', 'https://en.wikipedia.org/wiki/Football_at_the_African_Games', 'https://nl.wikipedia.org/wiki/UEMOA_Toernooi', 'https://en.wikipedia.org/wiki/COSAFA_Cup', 'https://en.wikipedia.org/wiki/CECAFA_U-15_Championship', 'https://en.wikipedia.org/wiki/UEFA_European_Under-19_Championship', 'https://en.wikipedia.org/wiki/CECAFA_U-23_Challenge_Cup', 'https://en.wikipedia.org/wiki/Football_at_the_Island_Games', 'https://en.wikipedia.org/wiki/Category:CS1_maint:_archived_copy_as_title', 'https://en.wikipedia.org/wiki/U-20_Africa_Cup_of_Nations', 'https://en.wikipedia.org/wiki/CONIFA_South_America_Football_Cup', 'https://en.wikipedia.org/wiki/Template:Cite_web', 'https://en.wikipedia.org/wiki/Football_at_the_Bolivarian_Games', 'https://en.wikipedia.org/wiki/Template:CAF_competitions', 'https://en.wikipedia.org/wiki/UNAF_Club_Cup', 'https://en.wikipedia.org/wiki/CECAFA_U-20_Championship', 'https://en.wikipedia.org/wiki/West_Asian_Games', 'https://en.wikipedia.org/wiki/Kagame_Interclub_Cup', 'https://en.wikipedia.org/wiki/Football_at_the_Central_American_and_Caribbean_Games', 'https://en.wikipedia.org/wiki/CONCACAF', 'https://en.wikipedia.org/wiki/COSAFA_U-20_Challenge_Cup', 'https://fr.wikipedia.org/wiki/Tournoi_de_l%27UEMOA', 'https://en.wikipedia.org/wiki/Ebola_virus_epidemic_in_West_Africa', 'https://en.wikipedia.org/wiki/CONIFA_World_Football_Cup', 'https://en.wikipedia.org/wiki/Women%27s_Africa_Cup_of_Nations', 'https://en.wikipedia.org/wiki/Football_at_the_Asian_Games', 'https://en.wikipedia.org/wiki/CECAFA', 'https://en.wikipedia.org/wiki/Category:Articles_with_short_description', 'https://en.wikipedia.org/wiki/Burkina_Faso', 'https://en.wikipedia.org/wiki/WAFU_U-20_Championship', 'https://en.wikipedia.org/wiki/Special:SpecialPages', 'https://www.rsssf.org/tablesu/uemoa.html', 'https://en.wikipedia.org/wiki/U-17_Africa_Cup_of_Nations', 'https://en.wikipedia.org/wiki/African_Nations_Championship', 'https://en.wikipedia.org/wiki/Football_at_the_South_Asian_Games', 'https://en.wikipedia.org/wiki/Wikipedia:Contents', 'https://en.wikipedia.org/wiki/COSAFA', 'https://en.wikipedia.org/wiki/COSAFA_U-17_Challenge_Cup', 'https://en.wikipedia.org/wiki/UEMOA_Tournament', 'https://en.wikipedia.org/wiki/CONCACAF_Under-20_Championship', 'https://en.wikipedia.org/wiki/CONIFA_European_Football_Cup', 'https://en.wikipedia.org/wiki/CONCACAF_Nations_League', 'https://en.wikipedia.org/w/index.php?title=Special:CreateAccount&returnto=UEMOA+Tournament', 'https://en.wikipedia.org/wiki/FIFA_U-20_World_Cup', 'https://en.wikipedia.org/wiki/CECAFA_Cup', 'https://en.wikipedia.org/wiki/CONIFA_Africa_Football_Cup', 'https://it.wikipedia.org/wiki/Torneo_dell%27UEMOA', 'https://en.wikipedia.org/wiki/COSAFA_U-20_Women%27s_Championship', 'https://en.wikipedia.org/w/index.php?title=Special:UrlShortener&url=https%3A%2F%2Fen.wikipedia.org%2Fwiki%2FUEMOA_Tournament', 'https://foundation.wikimedia.org/wiki/Special:MyLanguage/Policy:Terms_of_Use', 'https://developer.wikimedia.org/', 'https://en.wikipedia.org/wiki/FIFA_U-17_World_Cup', 'https://en.wikipedia.org/wiki/CONCACAF_Boys%27_Under-15_Championship', 'https://en.wikipedia.org/wiki/Help:Category', 'https://en.wikipedia.org/wiki/Africa', 'https://en.wikipedia.org/wiki/Football_at_the_Mediterranean_Games', 'https://en.wikipedia.org/wiki/AFC_U-17_Asian_Cup', 'https://en.wikipedia.org/wiki/African_U-20_Women%27s_World_Cup_qualification', 'https://en.wikipedia.org/wiki/CAF_Confederation_Cup', 'https://en.wikipedia.org/wiki/UNAF', 'https://en.wikipedia.org/wiki/Wikipedia:General_disclaimer', 'https://en.wikipedia.org/wiki/Oceania_Football_Confederation', 'https://en.wikipedia.org/wiki/OFC_U-16/U-17_Championship', 'https://en.wikipedia.org/wiki/FIFA_Club_of_the_Century', 'https://en.wikipedia.org/wiki/Wikipedia:Text_of_the_Creative_Commons_Attribution-ShareAlike_4.0_International_License', 'https://en.wikipedia.org/wiki/CONMEBOL%E2%80%93UEFA_Cup_of_Champions', 'https://en.wikipedia.org/wiki/Category:CS1_French-language_sources_(fr)', 'https://wikimediafoundation.org/', 'https://en.wikipedia.org/wiki/AFF_Championship', 'https://en.wikipedia.org/wiki/List_of_association_football_competitions', 'https://en.wikipedia.org/wiki/African_Women%27s_Footballer_of_the_Year', 'https://en.wikipedia.org/wiki/UNAF_U-17_Tournament', 'https://en.wikipedia.org/wiki/Ivory_Coast', 'https://en.wikipedia.org/wiki/Burkina_Faso_national_football_team', 'http://www.uemoa.int/fr/uemoafootball-7eme-edition-de-la-coupe-de-lintegration-ouest-africaine-lome-au-togo-du-26-novembre', 'https://en.wikipedia.org/wiki/Football_at_the_Pacific_Mini_Games', 'https://en.wikipedia.org/wiki/Arab_Cup_U-20', 'http://www.uemoa.int/fr', 'https://en.wikipedia.org/wiki/North_African_Futsal_Tournament', 'https://en.wikipedia.org/wiki/Football_at_the_Goodwill_Games', 'https://en.wikipedia.org/wiki/Niger_national_football_team', 'https://en.wikipedia.org/wiki/Arab_Club_Champions_Cup', 'https://en.wikipedia.org/wiki/UEFA_European_Under-21_Championship', 'https://en.wikipedia.org/wiki/Timeline_of_association_football', 'https://en.wikipedia.org/wiki/South_American_Youth_Football_Championship', 'https://en.wikipedia.org/wiki/Benin_national_football_team', 'https://en.wikipedia.org/wiki/Special:RecentChangesLinked/UEMOA_Tournament', 'https://en.wikipedia.org/wiki/Arab_Women%27s_Championship', 'https://en.wikipedia.org/wiki/Football_at_the_Micronesian_Games', 'https://en.wikipedia.org/wiki/CAF_Women%27s_Olympic_qualifying_tournament', 'https://en.wikipedia.org/wiki/UNAF_Women%27s_Club_Tournament', 'https://en.wikipedia.org/wiki/2009_UEMOA_Tournament', 'https://en.wikipedia.org/wiki/World_Unity_Football_Alliance', 'https://en.wikipedia.org/wiki/CONMEBOL', 'https://web.archive.org/web/20161125043537/http:/www.uemoa.int/fr/uemoafootball-7eme-edition-de-la-coupe-de-lintegration-ouest-africaine-lome-au-togo-du-26-novembre', 'https://en.wikipedia.org/wiki/U-23_Africa_Cup_of_Nations', 'https://en.wikipedia.org/wiki/Wikipedia:Community_portal', 'https://de.wikipedia.org/wiki/Tournoi_de_l%E2%80%99UEMOA', 'https://en.wikipedia.org/wiki/UEFA', 'https://en.wikipedia.org/wiki/Football_at_the_Southeast_Asian_Games', 'https://en.wikipedia.org/wiki/North_African_Super_Cup', 'https://en.wikipedia.org/wiki/Special:EditPage/Template:UEMOA_Football_Tournament', 'https://en.wikipedia.org/wiki/Template:International_football', 'https://en.wikipedia.org/wiki/Wikipedia:Contact_us', 'https://en.wikipedia.org/wiki/CONCACAF_Under-17_Championship', 'https://en.wikipedia.org/wiki/Football_at_the_Indian_Ocean_Island_Games', 'https://en.wikipedia.org/wiki/UNAF_U-18_Tournament', 'https://en.wikipedia.org/wiki/Help:Contents', 'https://en.wikipedia.org/wiki/Benin', 'https://en.wikipedia.org/wiki/CEMAC_Cup', 'https://en.wikipedia.org/wiki/South_American_U-15_Championship', 'https://en.wikipedia.org/wiki/Senegal_national_football_team', 'https://en.wikipedia.org/wiki/Confederation_of_Independent_Football_Associations', 'https://en.wikipedia.org/w/index.php?title=UEMOA_Tournament&action=history', 'https://en.wikipedia.org/wiki/2011_UEMOA_Tournament', 'https://en.wikipedia.org/wiki/Beach_Soccer_Africa_Cup_of_Nations', 'https://en.wikipedia.org/w/index.php?title=UEMOA_Tournament&action=edit&section=2', 'https://en.wikipedia.org/wiki/Special:WhatLinksHere/UEMOA_Tournament', 'https://en.wikipedia.org/wiki/West_African_Economic_and_Monetary_Union', 'https://en.wikipedia.org/w/index.php?title=UEMOA_Tournament&action=edit&section=3', 'https://en.wikipedia.org/wiki/AFC_U-23_Asian_Cup', 'https://en.wikipedia.org/wiki/COSAFA_Women%27s_Championship', 'https://en.wikipedia.org/wiki/Arab_Cup_U-17', 'https://www.wikimediafoundation.org/', 'https://en.wikipedia.org/wiki/WAFU_Nations_Cup', 'https://en.wikipedia.org/wiki/West_African_Club_Championship', 'https://en.wikipedia.org/wiki/Special:MyTalk', 'https://pl.wikipedia.org/wiki/Turniej_UEMOA', 'https://en.wikipedia.org/wiki/RSSSF', 'https://foundation.wikimedia.org/wiki/Special:MyLanguage/Policy:Privacy_policy', 'https://en.wikipedia.org/wiki/CAF_Awards', 'https://en.wikipedia.org/wiki/2008_UEMOA_Tournament', 'https://en.wikipedia.org/wiki/UNAF_Women%27s_Tournament', 'https://en.wikipedia.org/wiki/Mali', 'https://en.wikipedia.org/wiki/List_of_African_national_football_team_managers', 'https://en.wikipedia.org/wiki/Arab_Cup_Winners%27_Cup', 'https://en.wikipedia.org/wiki/ODESUR', 'https://en.wikipedia.org/wiki/Football_at_the_East_Asian_Games', 'https://en.wikipedia.org/wiki/CECAFA_U-17_Championship', 'https://en.wikipedia.org/wiki/Africa_Cup_of_Nations', 'https://en.wikipedia.org/wiki/Arab_Super_Cup', 'https://en.wikipedia.org/wiki/Template_talk:UEMOA_Football_Tournament', 'https://en.wikipedia.org/wiki/Togo_national_football_team', 'https://en.wikipedia.org/wiki/Category:UEMOA_Tournament', 'https://en.wikipedia.org/wiki/Football_at_the_Arab_Games', 'https://en.wikipedia.org/wiki/Multi-sport_event', 'https://en.wikipedia.org/wiki/FIFA_Player_of_the_Century', 'https://en.wikipedia.org/wiki/African_U-17_Women%27s_World_Cup_qualification', 'https://en.wikipedia.org/wiki/Guinea-Bissau_national_football_team', 'https://en.wikipedia.org/wiki/Football_at_the_Summer_Universiade', 'https://en.wikipedia.org/wiki/Football_at_the_Youth_Olympic_Games', 'https://en.wikipedia.org/wiki/Afro-Asian_Cup_of_Nations', 'https://en.wikipedia.org/wiki/Futsal_Africa_Cup_of_Nations', 'https://es.wikipedia.org/wiki/Torneo_UEMOA', 'https://en.wikipedia.org/wiki/CAF_Cup', 'https://en.wikipedia.org/wiki/Special:Random', 'https://en.wikipedia.org/wiki/AFC_U-20_Asian_Cup', 'https://en.wikipedia.org/wiki/Template_talk:CAF_competitions', 'https://en.wikipedia.org/wiki/WAFU_Zone_A_Women%27s_Cup', 'https://en.wikipedia.org/wiki/CONCACAF_Gold_Cup', 'https://en.wikipedia.org/wiki/Wikipedia:File_Upload_Wizard', 'https://en.wikipedia.org/w/index.php?title=UEMOA_Tournament&action=edit&section=1', 'https://en.wikipedia.org/wiki/Football_at_the_Pan_Arab_Games', 'https://en.wikipedia.org/wiki/Mali_national_football_team', 'https://en.wikipedia.org/wiki/2010_UEMOA_Tournament', 'https://en.wikipedia.org/wiki/Non-FIFA_international_football', 'https://en.wikipedia.org/wiki/UNIFFAC', 'https://en.wikipedia.org/w/index.php?title=Special:QrCode&url=https%3A%2F%2Fen.wikipedia.org%2Fwiki%2FUEMOA_Tournament', 'https://en.wikipedia.org/wiki/FIFA_Arab_Cup', 'https://en.wikipedia.org/wiki/North_African_Cup_Winners_Cup', 'https://en.wikipedia.org/wiki/West_African_Football_Union', 'https://en.wikipedia.org/wiki/Geography_of_association_football', 'https://foundation.wikimedia.org/wiki/Special:MyLanguage/Policy:Universal_Code_of_Conduct', 'https://en.wikipedia.org/wiki/Category:International_association_football_competitions_in_West_Africa', 'https://stats.wikimedia.org/', 'https://en.wikipedia.org/wiki/UEFA_European_Championship', 'https://en.wikipedia.org/wiki/COSAFA_U-17_Women%27s_Championship', 'https://en.wikipedia.org/wiki/Ivory_Coast_national_football_team', 'https://en.wikipedia.org/wiki/List_of_men%27s_national_association_football_teams', 'https://en.wikipedia.org/wiki/FIFA', 'https://en.wikipedia.org/wiki/ODEBO', 'https://en.wikipedia.org/wiki/Football_at_the_Central_American_Games', 'https://en.wikipedia.org/wiki/North_African_Cup_of_Champions', 'https://en.wikipedia.org/wiki/Template:UEMOA_Football_Tournament', 'https://en.wikipedia.org/wiki/Association_football', 'https://en.wikipedia.org/wiki/UNAF_U-15_Tournament', 'https://en.wikipedia.org/w/index.php?title=UEMOA_Tournament&oldid=1141011727', 'https://en.wikipedia.org/wiki/AFC_Asian_Cup', 'https://en.wikipedia.org/w/index.php?title=UEMOA_Tournament&action=edit&section=4', 'https://en.wikipedia.org/wiki/Portal:Current_events', 'https://en.wikipedia.org/wiki/Afro-Asian_Club_Championship', 'https://en.wikipedia.org/w/index.php?title=UEMOA_Tournament&action=edit', 'https://en.wikipedia.org/wiki/2013_UEMOA_Tournament', 'https://en.wikipedia.org/wiki/File:Carte_Afrique_CAF.png', 'https://en.wikipedia.org/wiki/UDEAC_Cup', 'https://en.wikipedia.org/wiki/UNAF_U-20_Women%27s_Tournament', 'https://en.wikipedia.org/w/index.php?title=Special:CiteThisPage&page=UEMOA_Tournament&id=1141011727&wpFormIdentifier=titleform', 'https://en.wikipedia.org/wiki/Template_talk:International_football', 'https://en.wikipedia.org/wiki/UNIFFAC_Cup', 'https://en.wikipedia.org/wiki/Special:Search', 'https://en.wikipedia.org/wiki/Arab_U-17_Women%27s_Cup', 'https://en.wikipedia.org/wiki/CECAFA_Nile_Basin_Cup', 'https://en.wikipedia.org/wiki/UEFA_European_Under-17_Championship', 'https://en.wikipedia.org/wiki/African_Footballer_of_the_Year', 'https://donate.wikimedia.org/wiki/Special:FundraiserRedirector?utm_source=donate&utm_medium=sidebar&utm_campaign=C13_en.wikipedia.org&uselang=en', 'https://en.wikipedia.org/wiki/AFF%E2%80%93EAFF_Champions_Trophy', 'https://en.wikipedia.org/wiki/Special:EditPage/Template:CAF_competitions', 'https://www.mediawiki.org/', 'https://en.wikipedia.org/wiki/OFC_U-19_Championship', 'https://en.wikipedia.org/wiki/Main_Page', 'https://en.wikipedia.org/wiki/CECAFA_Women%27s_Championship', 'https://en.wikipedia.org/wiki/List_of_FIFA_country_codes', 'https://en.wikipedia.org/wiki/International_Island_Games_Association', 'https://en.wikipedia.org/wiki/2007_UEMOA_Tournament', 'https://en.wikipedia.org/wiki/Football_at_the_Islamic_Solidarity_Games', 'https://en.wikipedia.org/wiki/African_Football_League', 'https://en.wikipedia.org/wiki/Football_at_the_Summer_Olympics', 'https://en.wikipedia.org/wiki/Wikipedia:About', 'https://en.wikipedia.org/w/index.php?title=UEMOA_Tournament&printable=yes', 'https://en.wikipedia.org/wiki/Wikipedia:File_upload_wizard', 'https://en.wikipedia.org/wiki/Special:EditPage/Template:International_football', 'https://en.wikipedia.org/wiki/CAF_Women%27s_Champions_League', 'https://en.wikipedia.org/wiki/File:UEMOA_Cup.gif', 'https://en.wikipedia.org/wiki/The_Best_FIFA_Football_Awards', 'https://en.wikipedia.org/wiki/South_American_U-17_Championship', 'https://en.wikipedia.org/wiki/Football_at_the_Pan_American_Games', 'https://en.wikipedia.org/wiki/UNIFAC_Cup', 'https://en.wikipedia.org/wiki/Football_at_the_Jeux_de_la_Francophonie', 'https://en.wikipedia.org/wiki/UEFA_Nations_League', 'https://en.wikipedia.org/wiki/Union_of_Arab_Football_Associations', 'https://en.wikipedia.org/wiki/CAFA_Nations_Cup', 'https://en.wikipedia.org/wiki/OFC_Nations_Cup', 'https://en.wikipedia.org/wiki/CAF_Champions_League', 'https://en.wikipedia.org/w/index.php?title=UEMOA_Tournament&action=info', 'https://en.wikipedia.org/wiki/Talk:UEMOA_Tournament', 'https://en.wikipedia.org/wiki/Women%27s_association_football', 'https://en.wikipedia.org/wiki/EAFF_E-1_Football_Championship', 'https://en.wikipedia.org/wiki/Football_at_the_Lusofonia_Games', 'https://www.wikidata.org/wiki/Special:EntityPage/Q3535249', 'https://en.wikipedia.org/wiki/2016_UEMOA_Tournament', 'https://en.wikipedia.org/wiki/CAF_Super_Cup', 'https://en.wikipedia.org/wiki/UNAF_U-23_Tournament', 'https://en.wikipedia.org/w/index.php?title=2017_UEMOA_Tournament&action=edit&redlink=1', 'https://en.wikipedia.org/wiki/Asian_Football_Confederation', 'https://en.wikipedia.org/wiki/Football_at_the_Pacific_Games', 'https://en.wikipedia.org/wiki/WAFF_Championship', 'https://en.wikipedia.org/wiki/SAFF_Championship', 'https://en.wikipedia.org/wiki/FIFA_World_Cup', 'https://en.wikipedia.org/wiki/Senegal', 'https://en.wikipedia.org/w/index.php?title=Special:DownloadAsPdf&page=UEMOA_Tournament&action=show-download-screen', 'https://en.wikipedia.org/wiki/UEFA%E2%80%93CAF_Meridian_Cup', 'https://en.wikipedia.org/wiki/Special:RecentChanges', 'https://en.wikipedia.org/wiki/Confederation_of_African_Football', 'https://en.wikipedia.org/wiki/WAFU_Zone_B_Women%27s_Cup', 'https://en.wikipedia.org/w/index.php?title=Special:UserLogin&returnto=UEMOA+Tournament', 'http://afriquefoot.rfi.fr/20141118-le-tournoi-uemoa-2014-togo-annule-cause-ebola/', 'https://en.wikipedia.org/wiki/Football_at_the_South_American_Games', 'https://en.wikipedia.org/wiki/Togo', 'https://en.wikipedia.org/wiki/List_of_football_federations', 'https://en.wikipedia.org/wiki/CAF_5-year_ranking', 'https://en.wikipedia.org/wiki/Copa_Am%C3%A9rica'], 'inlink_no': 0, 'outlink_no': 273, 'author': ['Jianqing']}\n"
     ]
    },
    {
     "ename": "TypeError",
     "evalue": "string indices must be integers, not 'str'",
     "output_type": "error",
     "traceback": [
      "\u001b[0;31m---------------------------------------------------------------------------\u001b[0m",
      "\u001b[0;31mTypeError\u001b[0m                                 Traceback (most recent call last)",
      "Cell \u001b[0;32mIn[28], line 6\u001b[0m\n\u001b[1;32m      4\u001b[0m \u001b[38;5;66;03m# testing\u001b[39;00m\n\u001b[1;32m      5\u001b[0m \u001b[38;5;28;01mfor\u001b[39;00m doc_info \u001b[38;5;129;01min\u001b[39;00m docs_map[\u001b[38;5;124m'\u001b[39m\u001b[38;5;124mhttps://en.wikipedia.org/wiki/List_of_epidemics\u001b[39m\u001b[38;5;124m'\u001b[39m]:\n\u001b[0;32m----> 6\u001b[0m     \u001b[38;5;28mprint\u001b[39m(\u001b[38;5;124mf\u001b[39m\u001b[38;5;124m\"\u001b[39m\u001b[38;5;124mtitle: \u001b[39m\u001b[38;5;132;01m{\u001b[39;00mdoc_info[\u001b[38;5;124m'\u001b[39m\u001b[38;5;124mtitle\u001b[39m\u001b[38;5;124m'\u001b[39m]\u001b[38;5;132;01m}\u001b[39;00m\u001b[38;5;124m\"\u001b[39m)\n\u001b[1;32m      7\u001b[0m     \u001b[38;5;28mprint\u001b[39m(\u001b[38;5;124mf\u001b[39m\u001b[38;5;124m\"\u001b[39m\u001b[38;5;124mcontent: \u001b[39m\u001b[38;5;132;01m{\u001b[39;00mdoc_info[\u001b[38;5;124m'\u001b[39m\u001b[38;5;124mcontent\u001b[39m\u001b[38;5;124m'\u001b[39m]\u001b[38;5;132;01m}\u001b[39;00m\u001b[38;5;124m\"\u001b[39m)\n\u001b[1;32m      8\u001b[0m     \u001b[38;5;28mprint\u001b[39m(\u001b[38;5;124mf\u001b[39m\u001b[38;5;124m\"\u001b[39m\u001b[38;5;124minlinks: \u001b[39m\u001b[38;5;132;01m{\u001b[39;00mdoc_info[\u001b[38;5;124m'\u001b[39m\u001b[38;5;124minlinks\u001b[39m\u001b[38;5;124m'\u001b[39m]\u001b[38;5;132;01m}\u001b[39;00m\u001b[38;5;124m\"\u001b[39m)\n",
      "\u001b[0;31mTypeError\u001b[0m: string indices must be integers, not 'str'"
     ]
    }
   ],
   "source": [
    "# testing\n",
    "print(docs_map['https://en.wikipedia.org/wiki/UEMOA_Tournament'])\n",
    "\n",
    "# testing\n",
    "for doc_info in docs_map['https://en.wikipedia.org/wiki/List_of_epidemics']:\n",
    "    print(f\"title: {doc_info['title']}\")\n",
    "    print(f\"content: {doc_info['content']}\")\n",
    "    print(f\"inlinks: {doc_info['inlinks']}\")\n",
    "    print(f\"outlinks: {doc_info['outlinks']}\")\n",
    "    print(f\"inlink_no: {doc_info['inlink_no']}\")\n",
    "    print(f\"outlink_no: {doc_info['outlink_no']}\")"
   ]
  },
  {
   "cell_type": "markdown",
   "id": "36625d6c-dadc-434b-92c6-dc094b3bb1b9",
   "metadata": {
    "tags": []
   },
   "source": [
    "### 2. Connect to ES"
   ]
  },
  {
   "cell_type": "code",
   "execution_count": 3,
   "id": "1b3527f9-e398-49fc-9ea9-ae36066c6b51",
   "metadata": {
    "tags": []
   },
   "outputs": [
    {
     "name": "stdout",
     "output_type": "stream",
     "text": [
      "True\n"
     ]
    }
   ],
   "source": [
    "INDEX_NAME = 'crawler' \n",
    "CLOUD_ID = \"6200:dXMtY2VudHJhbDEuZ2NwLmNsb3VkLmVzLmlvOjQ0MyRiZTllZjE5NDRkNTg0MDE3YTU0NDg0MzcwYjk5MjQzMSQ2Zjg1ODJhNWRjMGY0NDBhODU1Njk1MDQ4NzMyNmU2Yg==\"                  \n",
    "es = Elasticsearch(request_timeout = 10000, \n",
    "                    cloud_id = CLOUD_ID,\n",
    "                    http_auth = ('elastic', 'fwOhKti7myB3PKFHQavQBhcr'))\n",
    "\n",
    "print(es.ping())"
   ]
  },
  {
   "cell_type": "markdown",
   "id": "c60463e5-2770-47b5-82eb-4d88e7f217e3",
   "metadata": {
    "tags": []
   },
   "source": [
    "### 2.4 Index Creation -- Already created by teammates"
   ]
  },
  {
   "cell_type": "code",
   "execution_count": 19,
   "id": "5051e084-20df-4490-8262-25eae64e9c5c",
   "metadata": {},
   "outputs": [
    {
     "data": {
      "text/plain": [
       "{'acknowledged': True, 'shards_acknowledged': True, 'index': 'crawler'}"
      ]
     },
     "execution_count": 19,
     "metadata": {},
     "output_type": "execute_result"
    }
   ],
   "source": [
    "configurations = {\n",
    "    \"settings\" : {\n",
    "        \"number_of_shards\": 1,\n",
    "        \"number_of_replicas\": 1,\n",
    "        \"max_result_window\": 1000000,\n",
    "        \"analysis\": {\n",
    "            \"filter\": {},\n",
    "            \"analyzer\": {\n",
    "                \"stopped\": {\n",
    "                    \"type\": \"custom\",\n",
    "                    \"tokenizer\": \"standard\",\n",
    "                }\n",
    "            }\n",
    "      }\n",
    "    },\n",
    "    \"mappings\": {\n",
    "        \"properties\": {\n",
    "            \"title\": {\n",
    "                \"type\": \"text\"\n",
    "            },\n",
    "            \"content\": {\n",
    "                \"type\": \"text\",\n",
    "                \"fielddata\": True,\n",
    "                \"analyzer\": \"stopped\",\n",
    "                \"index_options\": \"positions\"\n",
    "            },\n",
    "            \"inlinks\": {\n",
    "                \"type\": \"keyword\"\n",
    "            },\n",
    "            \"outlinks\": {\n",
    "                \"type\": \"keyword\"\n",
    "            },\n",
    "            \"inlink_no\": {\n",
    "                \"type\": \"integer\"\n",
    "            },\n",
    "            \"outlink_no\": {\n",
    "                \"type\": \"integer\"\n",
    "            },\n",
    "            \"author\":{\n",
    "                \"type\": \"keyword\"\n",
    "            }\n",
    "        }\n",
    "    }\n",
    "}\n",
    "\n",
    "es.indices.create(index=INDEX_NAME, body=json.dumps(configurations))"
   ]
  },
  {
   "cell_type": "markdown",
   "id": "7c1e809b-48e3-4553-b21c-e1492902d0c7",
   "metadata": {
    "tags": []
   },
   "source": [
    "### 2.5 Merge and Add with Shared Index"
   ]
  },
  {
   "cell_type": "code",
   "execution_count": 20,
   "id": "2a018fbc-924d-4ae5-a8d7-4209fee4e07f",
   "metadata": {
    "tags": []
   },
   "outputs": [
    {
     "data": {
      "text/plain": [
       "{'took': 3,\n",
       " 'timed_out': False,\n",
       " 'total': 0,\n",
       " 'updated': 0,\n",
       " 'deleted': 0,\n",
       " 'batches': 0,\n",
       " 'version_conflicts': 0,\n",
       " 'noops': 0,\n",
       " 'retries': {'bulk': 0, 'search': 0},\n",
       " 'throttled_millis': 0,\n",
       " 'requests_per_second': -1.0,\n",
       " 'throttled_until_millis': 0,\n",
       " 'failures': []}"
      ]
     },
     "execution_count": 20,
     "metadata": {},
     "output_type": "execute_result"
    }
   ],
   "source": [
    "# 1. Remove all documents where \"Jianqing\" is the only author\n",
    "delete_query = {\n",
    "    \"query\": {\n",
    "        \"bool\": {\n",
    "            \"must\": [\n",
    "                {\n",
    "                    \"term\": {\n",
    "                        \"author\": \"Jianqing\"\n",
    "                    }\n",
    "                }\n",
    "            ],\n",
    "            \"must_not\": [\n",
    "                {\n",
    "                    \"script\": {\n",
    "                        \"script\": \"doc['author'].length > 1\"\n",
    "                    }\n",
    "                }\n",
    "            ]\n",
    "        }\n",
    "    }\n",
    "}\n",
    "\n",
    "es.delete_by_query(index=INDEX_NAME, body=delete_query)\n",
    "\n",
    "# 2. Remove \"Jianqing\" from the author field in documents where \"Jianqing\" is one of the authors\n",
    "update_query = {\n",
    "    \"script\": {\n",
    "        \"source\": \"\"\"\n",
    "        if (ctx._source.author.contains(params.author)) {\n",
    "          ctx._source.author.remove(ctx._source.author.indexOf(params.author));\n",
    "        }\n",
    "        \"\"\",\n",
    "        \"lang\": \"painless\",\n",
    "        \"params\": {\n",
    "            \"author\": \"Jianqing\"\n",
    "        }\n",
    "    },\n",
    "    \"query\": {\n",
    "        \"term\": {\n",
    "            \"author\": \"Jianqing\"\n",
    "        }\n",
    "    }\n",
    "}\n",
    "\n",
    "es.update_by_query(index=INDEX_NAME, body=update_query)\n"
   ]
  },
  {
   "cell_type": "code",
   "execution_count": 29,
   "id": "11161224-72ef-4133-b51d-2b71130c862b",
   "metadata": {},
   "outputs": [],
   "source": [
    "\n",
    "# hash the url if too long\n",
    "def hash_id(long_id):\n",
    "    return hashlib.sha256(long_id.encode('utf-8')).hexdigest()\n",
    "\n",
    "def merge(_id, title, content, inlink_no, outlink_no, inlinks, outlinks, author):\n",
    "    # Check if the _id is too long and hash it if necessary\n",
    "    if len(_id.encode('utf-8')) > 512:\n",
    "        _id = hash_id(_id)\n",
    "\n",
    "    # check if the id already exists\n",
    "    try:\n",
    "        doc_exists = es.exists(index=INDEX_NAME, id=_id)\n",
    "    except Exception as e:\n",
    "        print(f\"An error occurred while checking if the document exists: {e}\")\n",
    "        return\n",
    "    \n",
    "    if doc_exists:\n",
    "        # get the current document\n",
    "        current_doc = es.get(index=INDEX_NAME, id=_id)['_source']\n",
    "        \n",
    "        # merge inlinks and calculate new inlink_no\n",
    "        current_inlinks = set(current_doc.get('inlinks', []))\n",
    "        updated_inlinks = current_inlinks.union(set(inlinks))\n",
    "        \n",
    "        updated_inlink_no = len(updated_inlinks)\n",
    "        \n",
    "        # merge authors\n",
    "        authors = current_doc.get('author', [])\n",
    "        if not isinstance(authors, list):\n",
    "            authors = [authors]\n",
    "        if author not in authors:\n",
    "            authors.append(author)\n",
    "            \n",
    "        # update the document\n",
    "        try:\n",
    "            es.update(index=INDEX_NAME, id=_id, body={\n",
    "                'doc': {\n",
    "                    'author': authors,\n",
    "                    'inlinks': list(updated_inlinks),\n",
    "                    'inlink_no': updated_inlink_no\n",
    "                }\n",
    "            })\n",
    "        except Exception as e:\n",
    "            print(f\"An error occurred while updating the document: {e}\")   \n",
    "    else:\n",
    "        # create a new document \n",
    "        try:\n",
    "            es.index(index=INDEX_NAME, \n",
    "                     id=_id, \n",
    "                     body={\n",
    "                         'author': [author],\n",
    "                         'title': title,\n",
    "                         'content': content,\n",
    "                         'inlinks': list(inlinks),\n",
    "                         'outlinks': list(outlinks),\n",
    "                         'inlink_no': int(inlink_no),\n",
    "                         'outlink_no': int(outlink_no)\n",
    "                     })\n",
    "        except Exception as e:\n",
    "            print(f\"An error occurred while creating the document: {e}\")"
   ]
  },
  {
   "cell_type": "code",
   "execution_count": 30,
   "id": "525675e9-3bdb-4722-8bc7-9e9c7d741633",
   "metadata": {},
   "outputs": [],
   "source": [
    "for docno, doc_info in docs_map.items():\n",
    "    merge(_id=docno,\n",
    "          title=doc_info['title'],\n",
    "          content=doc_info['content'],\n",
    "          inlink_no=doc_info['inlink_no'],\n",
    "          outlink_no=doc_info['outlink_no'],  \n",
    "          inlinks=doc_info['inlinks'],\n",
    "          outlinks=doc_info['outlinks'],\n",
    "          author='Jianqing')"
   ]
  },
  {
   "cell_type": "code",
   "execution_count": 4,
   "id": "b7422c80-b4a8-4199-913c-092f1905a606",
   "metadata": {
    "tags": []
   },
   "outputs": [
    {
     "name": "stdout",
     "output_type": "stream",
     "text": [
      "Total hits: 30000\n"
     ]
    }
   ],
   "source": [
    "try:\n",
    "    search_results = es.search(\n",
    "        index=INDEX_NAME,\n",
    "        body={\n",
    "            \"query\": {\n",
    "                \"match\": {\n",
    "                    \"author\": \"Jianqing\"\n",
    "                }\n",
    "            },\n",
    "            \"track_total_hits\": True\n",
    "        },\n",
    "        size=100 \n",
    "    )\n",
    "\n",
    "    print(f\"Total hits: {search_results['hits']['total']['value']}\")\n",
    "    # for doc in search_results['hits']['hits']:\n",
    "        # print(f\"ID: {doc['_id']}, Score: {doc['_score']}\")\n",
    "        # print(doc['_source'])\n",
    "except Exception as e:\n",
    "    print(f\"An error occurred while searching the documents: {e}\")"
   ]
  },
  {
   "cell_type": "code",
   "execution_count": 7,
   "id": "ff6427d9-1c0d-403f-879c-15dc6a5d448e",
   "metadata": {
    "tags": []
   },
   "outputs": [
    {
     "name": "stdout",
     "output_type": "stream",
     "text": [
      "Total hits: 0\n"
     ]
    }
   ],
   "source": [
    "\n",
    "try:\n",
    "    # URL must be properly encoded to match the ID in the index.\n",
    "    url_id = \"https%3A%2F%2Fja.wikipedia.org%2Fwiki%2F%25E3%2583%258E%25E3%2583%25BC%25E3%2583%2599%25E3%2583%25AB%25E6%2596%2587%25E5%25AD%25A6%25E8%25B3%259E\"\n",
    "\n",
    "    search_results = es.search(\n",
    "        index=INDEX_NAME,\n",
    "        body={\n",
    "            \"query\": {\n",
    "                \"terms\": {\n",
    "                    \"_id\": [url_id]\n",
    "                }\n",
    "            },\n",
    "            \"track_total_hits\": True\n",
    "        },\n",
    "        size=100 \n",
    "    )\n",
    "\n",
    "    print(f\"Total hits: {search_results['hits']['total']['value']}\")\n",
    "    # Uncomment the following lines to print each document's ID and score.\n",
    "    # for doc in search_results['hits']['hits']:\n",
    "        # print(f\"ID: {doc['_id']}, Score: {doc['_score']}\")\n",
    "        # print(doc['_source'])\n",
    "\n",
    "except Exception as e:\n",
    "    print(f\"An error occurred while searching the documents: {e}\")"
   ]
  },
  {
   "cell_type": "code",
   "execution_count": 6,
   "id": "5fbde393",
   "metadata": {
    "scrolled": true,
    "tags": []
   },
   "outputs": [
    {
     "name": "stdout",
     "output_type": "stream",
     "text": [
      "Total hits: 697\n",
      "ID: https://en.wikipedia.org/wiki/Kurdish_language\n",
      "Content: Kurdish language - Wikipedia\n",
      "ID: https://en.wikipedia.org/wiki/Latin_language\n",
      "Content: Latin - Wikipedia\n",
      "ID: https://www.nlm.nih.gov/web_policies.html\n",
      "Content: NLM Web Policies\n",
      "ID: https://en.wikipedia.org/wiki/Arabic_language\n",
      "Content: Arabic - Wikipedia\n",
      "ID: https://en.wikipedia.org/wiki/History\n",
      "Content: History - Wikipedia\n",
      "ID: https://en.wikipedia.org/wiki/Integrated_Authority_File\n",
      "Content: Integrated Authority File - Wikipedia\n",
      "ID: https://en.wikipedia.org/wiki/Biblioth%C3%A8que_nationale_de_France\n",
      "Content: Bibliothèque nationale de France - Wikipedia\n",
      "ID: https://wikimediafoundation.org/news/category/topics/legal/\n",
      "Content: Legal – Wikimedia Foundation\n",
      "ID: https://lists.wikimedia.org/postorius/lists/commons-l.lists.wikimedia.org/\n",
      "Content: \n",
      "Info | commons-l@lists.wikimedia.org - lists.wikimedia.org\n",
      "\n",
      "ID: https://wikimediafoundation.org/news/category/audiences/community/\n",
      "Content: Community – Wikimedia Foundation\n"
     ]
    }
   ],
   "source": [
    "search_results = es.search(\n",
    "    index=INDEX_NAME,\n",
    "    body={\n",
    "        \"query\": {\n",
    "            \"bool\": {\n",
    "                \"must\": [\n",
    "                    { \"term\": { \"author\": \"Anson\" } },\n",
    "                    { \"term\": { \"author\": \"Rohith\" } },\n",
    "                    #{ \"term\": { \"author\": \"Jianqing\" } }\n",
    "                ]\n",
    "            }\n",
    "        },\n",
    "        \"track_total_hits\": True  \n",
    "    },\n",
    "    size=10  \n",
    ")\n",
    "print(f\"Total hits: {search_results['hits']['total']['value']}\")\n",
    "for doc in search_results['hits']['hits']:\n",
    "    print(f\"ID: {doc['_id']}\")\n",
    "    print(f\"Content: {doc['_source']['title']}\")"
   ]
  },
  {
   "cell_type": "code",
   "execution_count": null,
   "id": "5c792966-8c7e-472f-aa65-4ff854c2253d",
   "metadata": {},
   "outputs": [],
   "source": [
    "# https://en.wikipedia.org/wiki/France"
   ]
  },
  {
   "cell_type": "code",
   "execution_count": null,
   "id": "fd1aa9ff-2b1d-471b-9420-56db69d0d8bf",
   "metadata": {},
   "outputs": [],
   "source": [
    "es = Elasticsearch(cloud_id= \"0feeb24636464a578a9c7a1ce9739181:dXMtY2VudHJhbDEuZ2NwLmNsb3VkLmVzLmlvOjQ0MyQyMzcyNjZmYzcwMzg0ZTA2OTM1MTJkZGIxMDgzYTRmMyQ1N2RhZjIzZTNiMWM0MjAwYjBhMDQ0MGY1ZTEyZTc2Yw==\",\n",
    "                http_auth=(\"elastic\", \"pETnMazDlmfyCT2rZ2NAWh2V\"))\n",
    "response = es.search(\n",
    "    index=INDEX,\n",
    "    body={\n",
    "    \"query\": {\n",
    "        \"multi_match\": {\n",
    "        \"query\": text_query,\n",
    "        \"fields\": [\"title\", \"content\"]\n",
    "        }\n",
    "    }\n",
    "    }, size=25\n",
    ")\n",
    "        "
   ]
  },
  {
   "cell_type": "code",
   "execution_count": 7,
   "id": "d877f40e-b190-43a7-b45f-56d15a204404",
   "metadata": {
    "tags": []
   },
   "outputs": [
    {
     "name": "stdout",
     "output_type": "stream",
     "text": [
      "An error occurred while searching the documents: TransportError(502, '{\"ok\":false,\"message\":\"The instance rejected the connection.\"}\\n')\n"
     ]
    }
   ],
   "source": [
    "\n",
    "try:\n",
    "    url_id = \"https://en.wikipedia.org/wiki/France\"\n",
    "\n",
    "    response = es.search(\n",
    "        index=INDEX_NAME,\n",
    "        body={\n",
    "            \"query\": {\n",
    "                \"terms\": {\n",
    "                    \"_id\": [url_id]\n",
    "                }\n",
    "            },\n",
    "            \"track_total_hits\": True\n",
    "        },\n",
    "        size=100 \n",
    "    )\n",
    "\n",
    "    # print(f\"{response['hits']['hits']}\")\n",
    "    print(f\"{response['hits']}\")\n",
    "    # Uncomment the following lines to print each document's ID and score.\n",
    "    # for doc in search_results['hits']['hits']:\n",
    "        # print(f\"ID: {doc['_id']}, Score: {doc['_score']}\")\n",
    "        # print(doc['_source'])\n",
    "\n",
    "except Exception as e:\n",
    "    print(f\"An error occurred while searching the documents: {e}\")"
   ]
  },
  {
   "cell_type": "code",
   "execution_count": null,
   "id": "0fd4c76b-64b6-42e3-904d-84933e031840",
   "metadata": {},
   "outputs": [],
   "source": []
  }
 ],
 "metadata": {
  "kernelspec": {
   "display_name": "Python 3 (ipykernel)",
   "language": "python",
   "name": "python3"
  },
  "language_info": {
   "codemirror_mode": {
    "name": "ipython",
    "version": 3
   },
   "file_extension": ".py",
   "mimetype": "text/x-python",
   "name": "python",
   "nbconvert_exporter": "python",
   "pygments_lexer": "ipython3",
   "version": "3.11.5"
  }
 },
 "nbformat": 4,
 "nbformat_minor": 5
}
